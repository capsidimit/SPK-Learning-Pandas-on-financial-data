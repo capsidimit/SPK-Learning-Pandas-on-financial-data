{
 "cells": [
  {
   "cell_type": "markdown",
   "metadata": {},
   "source": [
    "# Series Object"
   ]
  },
  {
   "cell_type": "code",
   "execution_count": 2,
   "metadata": {},
   "outputs": [],
   "source": [
    "import pandas as pd"
   ]
  },
  {
   "cell_type": "markdown",
   "metadata": {},
   "source": [
    "## Creating Series object\n",
    "`pandas.Series(data=None, index=None, dtype=None, name=None, copy=False)`"
   ]
  },
  {
   "cell_type": "code",
   "execution_count": 3,
   "metadata": {},
   "outputs": [
    {
     "data": {
      "text/plain": [
       "0    0\n",
       "1    1\n",
       "2    2\n",
       "3    3\n",
       "4    4\n",
       "5    5\n",
       "6    6\n",
       "7    7\n",
       "8    8\n",
       "9    9\n",
       "dtype: int64"
      ]
     },
     "execution_count": 3,
     "metadata": {},
     "output_type": "execute_result"
    }
   ],
   "source": [
    "# From Python list\n",
    "pd.Series(list(range(0,10)))"
   ]
  },
  {
   "cell_type": "code",
   "execution_count": 5,
   "metadata": {},
   "outputs": [
    {
     "data": {
      "text/plain": [
       "a    0\n",
       "b    1\n",
       "c    2\n",
       "d    3\n",
       "e    4\n",
       "f    5\n",
       "g    6\n",
       "h    7\n",
       "i    8\n",
       "j    9\n",
       "dtype: int64"
      ]
     },
     "execution_count": 5,
     "metadata": {},
     "output_type": "execute_result"
    }
   ],
   "source": [
    "# From dictionary\n",
    "pd.Series(\n",
    "    dict(\n",
    "        zip(\n",
    "            [chr(ord(\"a\") + idx) for idx in range(0,10)],\n",
    "            list(range(0,10))\n",
    "        )\n",
    "    )\n",
    ")"
   ]
  },
  {
   "cell_type": "code",
   "execution_count": 7,
   "metadata": {},
   "outputs": [
    {
     "data": {
      "text/plain": [
       "0    0\n",
       "1    1\n",
       "2    2\n",
       "3    3\n",
       "4    4\n",
       "5    5\n",
       "6    6\n",
       "7    7\n",
       "8    8\n",
       "9    9\n",
       "dtype: int64"
      ]
     },
     "execution_count": 7,
     "metadata": {},
     "output_type": "execute_result"
    }
   ],
   "source": [
    "# From Numpy array\n",
    "import numpy as np\n",
    "pd.Series(\n",
    "    np.array(range(0,10))\n",
    ")"
   ]
  },
  {
   "cell_type": "code",
   "execution_count": 8,
   "metadata": {},
   "outputs": [
    {
     "data": {
      "text/plain": [
       "0    10\n",
       "dtype: int64"
      ]
     },
     "execution_count": 8,
     "metadata": {},
     "output_type": "execute_result"
    }
   ],
   "source": [
    "# From constant\n",
    "pd.Series(\n",
    "    10\n",
    ")"
   ]
  },
  {
   "cell_type": "markdown",
   "metadata": {},
   "source": [
    "## Method `info()`"
   ]
  },
  {
   "cell_type": "code",
   "execution_count": 13,
   "metadata": {},
   "outputs": [
    {
     "name": "stdout",
     "output_type": "stream",
     "text": [
      "0    0\n",
      "1    1\n",
      "2    2\n",
      "3    3\n",
      "4    4\n",
      "5    5\n",
      "6    6\n",
      "7    7\n",
      "8    8\n",
      "9    9\n",
      "dtype: int64\n",
      "---\n",
      "<class 'pandas.core.series.Series'>\n",
      "RangeIndex: 10 entries, 0 to 9\n",
      "Series name: None\n",
      "Non-Null Count  Dtype\n",
      "--------------  -----\n",
      "10 non-null     int64\n",
      "dtypes: int64(1)\n",
      "memory usage: 212.0 bytes\n"
     ]
    }
   ],
   "source": [
    "data = pd.Series(list(range(0,10)))\n",
    "print(data, end=\"\\n---\\n\")\n",
    "data.info()"
   ]
  },
  {
   "cell_type": "code",
   "execution_count": 14,
   "metadata": {},
   "outputs": [
    {
     "name": "stdout",
     "output_type": "stream",
     "text": [
      "0    0.0\n",
      "1    NaN\n",
      "2    2.0\n",
      "3    NaN\n",
      "4    4.0\n",
      "5    NaN\n",
      "6    6.0\n",
      "7    NaN\n",
      "8    8.0\n",
      "9    NaN\n",
      "dtype: float64\n",
      "---\n",
      "<class 'pandas.core.series.Series'>\n",
      "RangeIndex: 10 entries, 0 to 9\n",
      "Series name: None\n",
      "Non-Null Count  Dtype  \n",
      "--------------  -----  \n",
      "5 non-null      float64\n",
      "dtypes: float64(1)\n",
      "memory usage: 212.0 bytes\n"
     ]
    }
   ],
   "source": [
    "data = pd.Series([ idx if idx % 2 == 0 else None for idx in range(0,10)])\n",
    "print(data, end=\"\\n---\\n\")\n",
    "data.info()"
   ]
  },
  {
   "cell_type": "markdown",
   "metadata": {},
   "source": [
    "## Attribute `index` of Series Object"
   ]
  },
  {
   "cell_type": "code",
   "execution_count": 17,
   "metadata": {},
   "outputs": [
    {
     "name": "stdout",
     "output_type": "stream",
     "text": [
      "a    0\n",
      "b    1\n",
      "c    2\n",
      "d    3\n",
      "e    4\n",
      "f    5\n",
      "g    6\n",
      "h    7\n",
      "i    8\n",
      "j    9\n",
      "dtype: int64\n",
      "---\n",
      "Index(['a', 'b', 'c', 'd', 'e', 'f', 'g', 'h', 'i', 'j'], dtype='object')\n"
     ]
    }
   ],
   "source": [
    "data = pd.Series(\n",
    "    dict(\n",
    "        zip(\n",
    "            [chr(ord(\"a\") + idx) for idx in range(0,10)],\n",
    "            list(range(0,10))\n",
    "        )\n",
    "    )\n",
    ")\n",
    "display(data)\n",
    "print(\"---\")\n",
    "display(data.index)"
   ]
  },
  {
   "cell_type": "code",
   "execution_count": 19,
   "metadata": {},
   "outputs": [
    {
     "name": "stdout",
     "output_type": "stream",
     "text": [
      "Custom Index\n",
      "a    0\n",
      "b    1\n",
      "c    2\n",
      "d    3\n",
      "e    4\n",
      "f    5\n",
      "g    6\n",
      "h    7\n",
      "i    8\n",
      "j    9\n",
      "dtype: int64\n",
      "---\n",
      "Index(['a', 'b', 'c', 'd', 'e', 'f', 'g', 'h', 'i', 'j'], dtype='object', name='Custom Index')\n"
     ]
    }
   ],
   "source": [
    "data.index.name = 'Custom Index'\n",
    "display(data)\n",
    "print(\"---\")\n",
    "display(data.index)"
   ]
  },
  {
   "cell_type": "markdown",
   "metadata": {},
   "source": [
    "# Attribute `values` of Series Object"
   ]
  },
  {
   "cell_type": "code",
   "execution_count": 28,
   "metadata": {},
   "outputs": [
    {
     "data": {
      "text/plain": [
       "a     0\n",
       "b    15\n",
       "c    30\n",
       "d    45\n",
       "e    60\n",
       "f    75\n",
       "g    90\n",
       "dtype: int64"
      ]
     },
     "metadata": {},
     "output_type": "display_data"
    },
    {
     "name": "stdout",
     "output_type": "stream",
     "text": [
      "---\n"
     ]
    },
    {
     "data": {
      "text/plain": [
       "array([ 0, 15, 30, 45, 60, 75, 90])"
      ]
     },
     "metadata": {},
     "output_type": "display_data"
    },
    {
     "name": "stdout",
     "output_type": "stream",
     "text": [
      "---\n"
     ]
    },
    {
     "data": {
      "text/plain": [
       "array(['a', 'b', 'c', 'd', 'e', 'f', 'g'], dtype=object)"
      ]
     },
     "metadata": {},
     "output_type": "display_data"
    }
   ],
   "source": [
    "data = pd.Series(\n",
    "    dict(\n",
    "        zip(\n",
    "            [chr(ord(\"a\") + idx) for idx in range(0,10)],\n",
    "            list(range(0,100,15))\n",
    "        )\n",
    "    )\n",
    ")\n",
    "display(data)\n",
    "print(\"---\")\n",
    "display(data.values)\n",
    "print(\"---\")\n",
    "display(data.index.values)"
   ]
  },
  {
   "cell_type": "markdown",
   "metadata": {},
   "source": [
    "## Tasks\n",
    "### SPK-PDS-1-1 Task 1\n",
    "Create empty `Series` obejct and ptint it."
   ]
  },
  {
   "cell_type": "code",
   "execution_count": 32,
   "metadata": {},
   "outputs": [
    {
     "name": "stdout",
     "output_type": "stream",
     "text": [
      "Series([], dtype: float64)\n"
     ]
    }
   ],
   "source": [
    "# Code should return `Series([], dtype: float64)`\n",
    "print(pd.Series([], dtype=float))"
   ]
  },
  {
   "cell_type": "markdown",
   "metadata": {},
   "source": [
    "### SPK-PDS-1-1 Task 2\n",
    "Based on the input numbers splitted by spaces create new `Series` object."
   ]
  },
  {
   "cell_type": "code",
   "execution_count": 33,
   "metadata": {},
   "outputs": [
    {
     "name": "stdout",
     "output_type": "stream",
     "text": [
      "0     8\n",
      "1     9\n",
      "2    12\n",
      "dtype: int64\n"
     ]
    }
   ],
   "source": [
    "import pandas as pd\n",
    "\n",
    "s = list(map(int, input().split()))\n",
    "# Continue your code here\n",
    "print(pd.Series(s))"
   ]
  },
  {
   "cell_type": "markdown",
   "metadata": {},
   "source": [
    "### SPK-PDS-1-1 Task 3\n",
    "There are data on US GDP in billions of dollars (gdp_usa list) and the period for which these figures were obtained (period list). Create a Series object where the values will be the GDP data, and the indexes will be the periods. Print it out.\n",
    "\n",
    "\n",
    "\n",
    "**Sample Output:**\n",
    "```\n",
    "2021-01-01    22313.850\n",
    "2021-04-01    23046.934\n",
    "2021-07-01    23550.420\n",
    "2021-10-01    24349.121\n",
    "2022-01-01    24740.480\n",
    "2022-04-01    25248.476\n",
    "2022-07-01    25723.941\n",
    "2022-10-01    26137.992\n",
    "2023-01-01    26486.287\n",
    "dtype: float64\n",
    "```"
   ]
  },
  {
   "cell_type": "code",
   "execution_count": 6,
   "metadata": {},
   "outputs": [
    {
     "name": "stdout",
     "output_type": "stream",
     "text": [
      "2021-01-01    22313.850\n",
      "2021-04-01    23046.934\n",
      "2021-07-01    23550.420\n",
      "2021-10-01    24349.121\n",
      "2022-01-01    24740.480\n",
      "2022-04-01    25248.476\n",
      "2022-07-01    25723.941\n",
      "2022-10-01    26137.992\n",
      "2023-01-01    26486.287\n",
      "dtype: float64\n"
     ]
    }
   ],
   "source": [
    "import pandas as pd  \n",
    "\n",
    "gdp_usa = [22313.85, 23046.934, 23550.42, 24349.121, 24740.48, \n",
    "           25248.476, 25723.941, 26137.992, 26486.287]\n",
    "period = ['2021-01-01', '2021-04-01', '2021-07-01', '2021-10-01', '2022-01-01',\n",
    "          '2022-04-01', '2022-07-01', '2022-10-01', '2023-01-01']\n",
    "# Continue your code here\n",
    "print(pd.Series(data=gdp_usa,index=period))"
   ]
  },
  {
   "cell_type": "markdown",
   "metadata": {},
   "source": [
    "### SPK-PDS-1-1 Task 4\n",
    "The Series object is given, in which the index is the names of cryptocurrencies, and the data column is the tickers of these cryptocurrencies. Print the indexes of the Series object."
   ]
  },
  {
   "cell_type": "code",
   "execution_count": 2,
   "metadata": {},
   "outputs": [
    {
     "name": "stdout",
     "output_type": "stream",
     "text": [
      "Index(['Биткоин', 'Эфириум', 'Tether USDt', 'BNB', 'XRP', 'Solana', 'USD Coin',\n",
      "       'Lido Staked ETH', 'Cardano', 'Dogecoin'],\n",
      "      dtype='object')\n"
     ]
    }
   ],
   "source": [
    "import pandas as pd\n",
    "crypto_values = ['BTC', 'ETH', 'USDT', 'BNB', 'XRP', 'SOL', 'USDC', 'stETH', 'ADA', 'DOGE']\n",
    "crypto_index = ['Биткоин', 'Эфириум', 'Tether USDt', 'BNB', 'XRP', 'Solana', 'USD Coin',\n",
    "                'Lido Staked ETH', 'Cardano', 'Dogecoin']\n",
    "srs = pd.Series(data=crypto_values, index=crypto_index)\n",
    "# Continue your code here\n",
    "print(srs.index)"
   ]
  },
  {
   "cell_type": "markdown",
   "metadata": {},
   "source": [
    "### SPK-PDS-1-1 Task 5\n",
    "There is data on the net profit of PJSC RusHydro from 2018 to 2022.\n",
    "* 31837000000 руб. за 2018 год;\n",
    "* 643000000 руб. за 2019 год;\n",
    "* 46607000000 руб. за 2020 год;\n",
    "* 42078000000 руб. за 2021 год;\n",
    "* 19325000000 руб. за 2022 год.\n",
    "\n",
    "In any way convenient to you, create a Series object in which the index will be the years and the data will be the profit values, and print it."
   ]
  },
  {
   "cell_type": "code",
   "execution_count": 3,
   "metadata": {},
   "outputs": [
    {
     "data": {
      "text/plain": [
       "2018    31837000000\n",
       "2019      643000000\n",
       "2020    46607000000\n",
       "2021    42078000000\n",
       "2022    19325000000\n",
       "dtype: int64"
      ]
     },
     "execution_count": 3,
     "metadata": {},
     "output_type": "execute_result"
    }
   ],
   "source": [
    "import pandas as pd\n",
    "years = [\n",
    "    2018,\n",
    "    2019,\n",
    "    2020,\n",
    "    2021,\n",
    "    2022\n",
    "]\n",
    "\n",
    "profit_data = [\n",
    "    31837000000,\n",
    "    643000000,\n",
    "    46607000000,\n",
    "    42078000000,\n",
    "    19325000000 \n",
    "]\n",
    "\n",
    "srs = pd.Series(data=profit_data, index=years)\n",
    "print(srs)"
   ]
  }
 ],
 "metadata": {
  "kernelspec": {
   "display_name": "Python 3",
   "language": "python",
   "name": "python3"
  },
  "language_info": {
   "codemirror_mode": {
    "name": "ipython",
    "version": 3
   },
   "file_extension": ".py",
   "mimetype": "text/x-python",
   "name": "python",
   "nbconvert_exporter": "python",
   "pygments_lexer": "ipython3",
   "version": "3.12.6"
  }
 },
 "nbformat": 4,
 "nbformat_minor": 2
}
